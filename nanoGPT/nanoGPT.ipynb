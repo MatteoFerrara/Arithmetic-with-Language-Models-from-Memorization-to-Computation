{
 "cells": [
  {
   "cell_type": "markdown",
   "metadata": {},
   "source": [
    "# **Arithmetic with Language Models: from Memorization to Computation**\n",
    "\n",
    "This notebook facilitates the replication of experimental work on **nanoGPT** architecture featured in [D. Maltoni and M. Ferrara, *\"Arithmetic with language models: From memorization to computation\"*, Neural Networks, vol. 179, 2024](https://www.sciencedirect.com/science/article/pii/S089360802400474X). It uses the following Python scripts:\n",
    "- **ArithmeticData.py** - contains functions to create, shuffle and split datasets used in the experimentation.\n",
    "- **model.py** - contains a modified version of the nanoGPT model as implemented by [Andrej Karpathy](https://github.com/karpathy/nanoGPT).\n",
    "- **train_arithmetic.py** - contains the *nanogpt_training* function allowing multiple training executions (*run_count*) with the same number of epochs (**epochs**) and using the same dataset (internally created from the *op*, *revert_bit* and *val_set_type* parameters).\n",
    "\n",
    "The following code imports all necessary modules and functions required for running this notebook. Subsequent code cells operate independently and may be run in any sequence."
   ]
  },
  {
   "cell_type": "code",
   "execution_count": 1,
   "metadata": {},
   "outputs": [],
   "source": [
    "import matplotlib.pyplot as plt\n",
    "\n",
    "from train_arithmetic import nanogpt_training"
   ]
  },
  {
   "cell_type": "markdown",
   "metadata": {},
   "source": [
    "The following code cell reproduces the experiment used to generate the left graph reported in Figure E.7. To store the weights of the trained models, specify the *out_folder_path* parameter with the directory path where you want the models to be saved."
   ]
  },
  {
   "cell_type": "code",
   "execution_count": null,
   "metadata": {},
   "outputs": [],
   "source": [
    "#Figure E.7 (left)\n",
    "\n",
    "op='+'\n",
    "run_count=5\n",
    "epochs=50\n",
    "out_folder_path=None\n",
    "\n",
    "avg_train_seq_acc,avg_val_seq_acc=nanogpt_training(op,run_count,epochs,out_folder_path=out_folder_path)\n",
    "\n",
    "plt.plot(avg_train_seq_acc*100,label='Train')\n",
    "plt.plot(avg_val_seq_acc*100,label='Val')\n",
    "plt.xlabel('Epochs')\n",
    "plt.ylabel('Sequence Accuracy (%)')\n",
    "plt.legend()\n",
    "plt.show() "
   ]
  },
  {
   "cell_type": "markdown",
   "metadata": {},
   "source": [
    "The following code cell reproduces the experiment used to generate the right graph reported in Figure E.7. To store the weights of the trained models, specify the *out_folder_path* parameter with the directory path where you want the models to be saved."
   ]
  },
  {
   "cell_type": "code",
   "execution_count": null,
   "metadata": {},
   "outputs": [],
   "source": [
    "#Figure E.7 (right)\n",
    "\n",
    "op='x'\n",
    "run_count=5\n",
    "epochs=250\n",
    "out_folder_path=None\n",
    "\n",
    "avg_train_seq_acc,avg_val_seq_acc=nanogpt_training(op,run_count,epochs,out_folder_path=out_folder_path)\n",
    "\n",
    "plt.plot(avg_train_seq_acc*100,label='Train')\n",
    "plt.plot(avg_val_seq_acc*100,label='Val')\n",
    "plt.xlabel('Epochs')\n",
    "plt.ylabel('Sequence Accuracy (%)')\n",
    "plt.legend()\n",
    "plt.show()"
   ]
  },
  {
   "cell_type": "markdown",
   "metadata": {},
   "source": [
    "The following code cell reproduces the experiment used to generate the left graph reported in Figure E.8. To reduce the duration required for the experiment execution, adjust the *run_count* parameter to 1."
   ]
  },
  {
   "cell_type": "code",
   "execution_count": null,
   "metadata": {},
   "outputs": [],
   "source": [
    "#Figure E.8 (left)\n",
    "\n",
    "op='+'\n",
    "run_count=5\n",
    "epochs=50\n",
    "\n",
    "_,avg_rndval_seq_acc=nanogpt_training(op,run_count,epochs)\n",
    "_,avg_vst_seq_acc=nanogpt_training(op,run_count,epochs,val_set_type='VSt')\n",
    "_,avg_vsv_seq_acc=nanogpt_training(op,run_count,epochs,val_set_type='VSv')\n",
    "\n",
    "plt.plot(avg_rndval_seq_acc*100,label='Random Split')\n",
    "plt.plot(avg_vst_seq_acc*100,label='VS_t')\n",
    "plt.plot(avg_vsv_seq_acc*100,label='VS_v')\n",
    "plt.xlabel('Epochs')\n",
    "plt.ylabel('Sequence Accuracy (%)')\n",
    "plt.legend()\n",
    "plt.show() "
   ]
  },
  {
   "cell_type": "markdown",
   "metadata": {},
   "source": [
    "The following code cell reproduces the experiment used to generate the right graph reported in Figure E.8. To reduce the duration required for the experiment execution, adjust the *run_count* parameter to 1."
   ]
  },
  {
   "cell_type": "code",
   "execution_count": null,
   "metadata": {},
   "outputs": [],
   "source": [
    "#Figure E.8 (right)\n",
    "\n",
    "op='x'\n",
    "run_count=5\n",
    "epochs=250\n",
    "\n",
    "_,avg_rndval_seq_acc,_,_=nanogpt_training(op,run_count,epochs)\n",
    "_,avg_vst_seq_acc,_,_=nanogpt_training(op,run_count,epochs,val_set_type='VSt')\n",
    "_,avg_vsv_seq_acc,_,_=nanogpt_training(op,run_count,epochs,val_set_type='VSv')\n",
    "\n",
    "plt.plot(avg_rndval_seq_acc*100,label='Random Split')\n",
    "plt.plot(avg_vst_seq_acc*100,label='VS_t')\n",
    "plt.plot(avg_vsv_seq_acc*100,label='VS_v')\n",
    "plt.xlabel('Epochs')\n",
    "plt.ylabel('Sequence Accuracy (%)')\n",
    "plt.legend()\n",
    "plt.show() "
   ]
  }
 ],
 "metadata": {
  "kernelspec": {
   "display_name": "torch",
   "language": "python",
   "name": "python3"
  },
  "language_info": {
   "codemirror_mode": {
    "name": "ipython",
    "version": 3
   },
   "file_extension": ".py",
   "mimetype": "text/x-python",
   "name": "python",
   "nbconvert_exporter": "python",
   "pygments_lexer": "ipython3",
   "version": "3.10.13"
  }
 },
 "nbformat": 4,
 "nbformat_minor": 2
}
